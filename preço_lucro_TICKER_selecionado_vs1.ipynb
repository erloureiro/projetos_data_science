{
 "cells": [
  {
   "cell_type": "markdown",
   "id": "435308a6",
   "metadata": {},
   "source": [
    "## Índice Preço / Lucro"
   ]
  },
  {
   "cell_type": "markdown",
   "id": "105b9641",
   "metadata": {},
   "source": [
    "#### Bibliotecas"
   ]
  },
  {
   "cell_type": "code",
   "execution_count": 1,
   "id": "6b10a70b",
   "metadata": {},
   "outputs": [],
   "source": [
    "import requests                           # biblioteca para fazer requisições na Internet\n",
    "import pandas as pd                       # biblioteca Pandas para manipulação de dados"
   ]
  },
  {
   "cell_type": "markdown",
   "id": "d7642ee3",
   "metadata": {},
   "source": [
    "#### Definindo Função"
   ]
  },
  {
   "cell_type": "code",
   "execution_count": 2,
   "id": "eb8c3309",
   "metadata": {},
   "outputs": [],
   "source": [
    "def preco_lucro(codigo):\n",
    "    # --------------------------------------------\n",
    "    # >> PASSO 1: BAIXAR OS DADOS DO SITE FUNDAMENTUS\n",
    "    # --------------------------------------------\n",
    "    url = 'https://www.fundamentus.com.br/detalhes.php?papel=' + codigo\n",
    "    cabecalho = {              #informações para fingir ser um navegador\n",
    "        \"User-Agent\": \"Mozilla/5.0 (X11; Linux x86_64) AppleWebkit/537.36 (KHTML, like Gecko) \\\n",
    "        Chrome/50.0.2661.75 Safari/537.36\",\n",
    "        \"x-Requested-With\": \"XMLHttpRequest\" \n",
    "    }\n",
    "    r = requests.get(url, headers=cabecalho)   # cria uma requisição com a URL e o cabeçalho\n",
    "    tabelas = pd.read_html(r.text, decimal=',', thousands='.') # faz a busca pelos dados na URL\n",
    "    # --------------------------------------------\n",
    "    # >> PASSO 2: FILTRAR OS DADOS ATÉ ENCONTRAR O VALOR DO P/L\n",
    "    # --------------------------------------------\n",
    "    P_L = tabelas[2][3][1]\n",
    "    \n",
    "    # --------------------------------------------\n",
    "    # >> PASSO 3: RETORNA O VALOR CONVERTIDO EM NÚMERO\n",
    "    # --------------------------------------------\n",
    "    return float(P_L)"
   ]
  },
  {
   "cell_type": "code",
   "execution_count": 3,
   "id": "d0305e6c",
   "metadata": {},
   "outputs": [
    {
     "data": {
      "text/plain": [
       "4.08"
      ]
     },
     "execution_count": 3,
     "metadata": {},
     "output_type": "execute_result"
    }
   ],
   "source": [
    "preco_lucro('BBAS3')"
   ]
  }
 ],
 "metadata": {
  "kernelspec": {
   "display_name": "Python 3 (ipykernel)",
   "language": "python",
   "name": "python3"
  },
  "language_info": {
   "codemirror_mode": {
    "name": "ipython",
    "version": 3
   },
   "file_extension": ".py",
   "mimetype": "text/x-python",
   "name": "python",
   "nbconvert_exporter": "python",
   "pygments_lexer": "ipython3",
   "version": "3.11.4"
  }
 },
 "nbformat": 4,
 "nbformat_minor": 5
}
