{
 "cells": [
  {
   "cell_type": "markdown",
   "id": "435308a6",
   "metadata": {},
   "source": [
    "## Dividend Yield"
   ]
  },
  {
   "cell_type": "markdown",
   "id": "f9416f43",
   "metadata": {},
   "source": [
    "### Dividend Yield (%) = Soma dos proventos pagos / preço da ação"
   ]
  },
  {
   "cell_type": "markdown",
   "id": "224852da",
   "metadata": {},
   "source": [
    "#### Bibliotecas"
   ]
  },
  {
   "cell_type": "code",
   "execution_count": 1,
   "id": "66196ea9",
   "metadata": {},
   "outputs": [],
   "source": [
    "import yfinance as yf                     # biblioteca para obtenção de dados de Investimento\n",
    "import requests                           # biblioteca para fazer requisições na Internet\n",
    "import pandas as pd                       # biblioteca Pandas para manipulação de dados\n",
    "import numpy as np                        # biblioteca Numpy para manipulação de dados numéricos\n",
    "pd.set_option('mode.chained_assignment', None)\n",
    "from datetime import date                 # funções para manipulação de datas"
   ]
  },
  {
   "cell_type": "markdown",
   "id": "fb4da3f4",
   "metadata": {},
   "source": [
    "#### Definindo Função"
   ]
  },
  {
   "cell_type": "code",
   "execution_count": 2,
   "id": "e0a7e74c",
   "metadata": {},
   "outputs": [],
   "source": [
    "def dividend_yield(codigo):\n",
    "    # --------------------------------------------\n",
    "    # >> PASSO 1: OBTER O PREÇO DA AÇÃO\n",
    "    # --------------------------------------------\n",
    "    preco = yf.Ticker(codigo + '.SA').history(period='1d')['Close'].values[0].round(2)\n",
    "    # --------------------------------------------\n",
    "    # >> PASSO 2: BAIXAR OS DADOS DO SITE FUNDAMENTUS\n",
    "    # --------------------------------------------\n",
    "    url = 'https://www.fundamentus.com.br/proventos.php?papel=' + codigo + '&tipo=2'\n",
    "    cabecalho = {              #informações para fingir ser um navegador\n",
    "        \"User-Agent\": \"Mozilla/5.0 (X11; Linux x86_64) AppleWebkit/537.36 (KHTML, like Gecko) \\\n",
    "        Chrome/50.0.2661.75 Safari/537.36\",\n",
    "        \"x-Requested-With\": \"XMLHttpRequest\" \n",
    "    }\n",
    "    r = requests.get(url, headers=cabecalho)   # cria uma requisição com a URL e o cabeçalho\n",
    "    dados_fundamentus = pd.read_html(r.text, decimal=',', thousands='.')[0] # faz a busca pelos dados na URL\n",
    "    # --------------------------------------------\n",
    "    # >> PASSO 3: MANIPULAÇÃO DOS DADOS\n",
    "    # --------------------------------------------\n",
    "    dados_fundamentus['Data'] = pd.to_datetime(dados_fundamentus['Data'], dayfirst=True)  # converte a data pro tipo datetime\n",
    "    proventos = dados_fundamentus[['Data', 'Valor', 'Tipo']]  # cria um novo DataFrame com as colunas que interessam\n",
    "    proventos['Valor Líquido'] = np.where(proventos['Tipo']=='DIVIDENDO', proventos['Valor'], proventos['Valor']*0.85)\n",
    "    # --------------------------------------------\n",
    "    # >> PASSO 4: OBTER A SOMA DOS PROVENTOS DOS ÚLTIMOS 12 MESES\n",
    "    # --------------------------------------------\n",
    "    data_hoje = date.today()   # obtém a data atual\n",
    "    data_limite = f'{data_hoje.year-1}-{data_hoje.month}-{data_hoje.day}' # obtém uma string com a data de 12 meses atrás     \n",
    "    proventos = proventos[proventos['Data'] > data_limite]    # filtra os dados dos últimos 12 meses\n",
    "    proventos_12_meses = proventos['Valor Líquido'].sum()     # soma os proventos líquidos pagos\n",
    "    # --------------------------------------------\n",
    "    # >> PASSO 5: RETORNA O DIVIDEND YIELD\n",
    "    # --------------------------------------------\n",
    "    return(proventos_12_meses/preco)*100.0"
   ]
  },
  {
   "cell_type": "code",
   "execution_count": 3,
   "id": "91ac2274",
   "metadata": {},
   "outputs": [
    {
     "data": {
      "text/plain": [
       "8.390904232578023"
      ]
     },
     "execution_count": 3,
     "metadata": {},
     "output_type": "execute_result"
    }
   ],
   "source": [
    "dividend_yield('BBAS3')"
   ]
  }
 ],
 "metadata": {
  "kernelspec": {
   "display_name": "Python 3 (ipykernel)",
   "language": "python",
   "name": "python3"
  },
  "language_info": {
   "codemirror_mode": {
    "name": "ipython",
    "version": 3
   },
   "file_extension": ".py",
   "mimetype": "text/x-python",
   "name": "python",
   "nbconvert_exporter": "python",
   "pygments_lexer": "ipython3",
   "version": "3.11.4"
  }
 },
 "nbformat": 4,
 "nbformat_minor": 5
}
