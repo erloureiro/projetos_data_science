{
 "cells": [
  {
   "cell_type": "markdown",
   "id": "435308a6",
   "metadata": {},
   "source": [
    "### Histórico de Dividendos"
   ]
  },
  {
   "cell_type": "markdown",
   "id": "780141c7",
   "metadata": {},
   "source": [
    "#### Bibliotecas"
   ]
  },
  {
   "cell_type": "code",
   "execution_count": 1,
   "id": "f02ab109",
   "metadata": {},
   "outputs": [],
   "source": [
    "import pandas as pd                         \n",
    "import matplotlib.pyplot as plt              \n",
    "import numpy as np\n",
    "import requests"
   ]
  },
  {
   "cell_type": "markdown",
   "id": "6a3e8a56",
   "metadata": {},
   "source": [
    "#### Definindo Função"
   ]
  },
  {
   "cell_type": "code",
   "execution_count": 2,
   "id": "44b48051",
   "metadata": {},
   "outputs": [],
   "source": [
    "def proventos(codigo, arquivo=None):\n",
    "    # --------------------------------------------\n",
    "    # >> PASSO 1: BAIXAR OS DADOS DA INTERNET\n",
    "    # --------------------------------------------\n",
    "    url = 'https://www.fundamentus.com.br/proventos.php?papel=' + codigo + '&tipo=2'\n",
    "    cabecalho = {              #informações para fingir ser um navegador\n",
    "        \"User-Agent\": \"Mozilla/5.0 (X11; Linux x86_64) AppleWebkit/537.36 (KHTML, like Gecko) \\\n",
    "        Chrome/50.0.2661.75 Safari/537.36\",\n",
    "        \"x-Requested-With\": \"XMLHttpRequest\" \n",
    "    }\n",
    "    r = requests.get(url, headers=cabecalho)   # cria uma requisição com a URL e o cabeçalho\n",
    "    dados_fundamentus = pd.read_html(r.text, decimal=',', thousands='.')[0] # faz a busca pelos dados na URL\n",
    "    # --------------------------------------------\n",
    "    # >> PASSO 2: MANIPULAÇÃO DOS DADOS\n",
    "    # --------------------------------------------\n",
    "    dados_fundamentus['Data'] = pd.to_datetime(dados_fundamentus['Data'], dayfirst=True)  # converte a data pro tipo datetime\n",
    "    proventos = dados_fundamentus[['Data', 'Valor', 'Tipo']]  # cria um novo DataFrame com as colunas que interessam\n",
    "    # criar coluna 'Val#### Definindo Funçãoor Líquido'\n",
    "    proventos['Valor Líquido'] = np.where(proventos['Tipo']=='DIVIDENDO', proventos['Valor'], proventos['Valor']*0.85)\n",
    "    # agrupar os proventos por anos\n",
    "    proventos_agrupados = proventos.groupby(proventos['Data'].dt.year).sum()\n",
    "    # --------------------------------------------\n",
    "    # >> PASSO 3: EXIBIÇÃO DOS DADOS\n",
    "    # --------------------------------------------\n",
    "    plt.style.use('seaborn')   # define o estilo para o gráfico\n",
    "    fig, ax = plt.subplots(figsize=(12,5))    # cria um espaço de tamanho 12x5 para o gráfico\n",
    "    \n",
    "    x = proventos_agrupados.index    # eixo horizontal (x): Índice do DataFrame (ano)\n",
    "    y = proventos_agrupados['Valor Líquido']    # eixo vertical (y): Coluna 'Valor Líquido'\n",
    "    \n",
    "    plt.bar(x, y)   # plota o gráfico de barras\n",
    "    plt.axis([min(x)-1, max(x)+1, 0, max(y)*1.1])   # define a escala do gráfico\n",
    "    ax.ticklabel_format(useOffset=False)    # remove a notação científica da escala do gráfico\n",
    "    ax.set_title('Proventos pagos por ação nos últimos anos')   # título do gráfico\n",
    "    ax.set_ylabel('Proventos em R$')    # legenda para o eixo vertical (y)\n",
    "    \n",
    "    if arquivo is not None:\n",
    "        plt.savefig(arquivo)    # se o nome do arquivo foi fornecido, salva o gráfico\n",
    "    else:\n",
    "        plt.show()              # caso contrário, exibe o gráfico na tela"
   ]
  },
  {
   "cell_type": "code",
   "execution_count": 3,
   "id": "44fd4523",
   "metadata": {},
   "outputs": [
    {
     "name": "stderr",
     "output_type": "stream",
     "text": [
      "C:\\Users\\eduardo.ramos\\AppData\\Local\\Temp\\ipykernel_7780\\3474197084.py:19: SettingWithCopyWarning: \n",
      "A value is trying to be set on a copy of a slice from a DataFrame.\n",
      "Try using .loc[row_indexer,col_indexer] = value instead\n",
      "\n",
      "See the caveats in the documentation: https://pandas.pydata.org/pandas-docs/stable/user_guide/indexing.html#returning-a-view-versus-a-copy\n",
      "  proventos['Valor Líquido'] = np.where(proventos['Tipo']=='DIVIDENDO', proventos['Valor'], proventos['Valor']*0.85)\n",
      "C:\\Users\\eduardo.ramos\\AppData\\Local\\Temp\\ipykernel_7780\\3474197084.py:21: FutureWarning: The default value of numeric_only in DataFrameGroupBy.sum is deprecated. In a future version, numeric_only will default to False. Either specify numeric_only or select only columns which should be valid for the function.\n",
      "  proventos_agrupados = proventos.groupby(proventos['Data'].dt.year).sum()\n",
      "C:\\Users\\eduardo.ramos\\AppData\\Local\\Temp\\ipykernel_7780\\3474197084.py:25: MatplotlibDeprecationWarning: The seaborn styles shipped by Matplotlib are deprecated since 3.6, as they no longer correspond to the styles shipped by seaborn. However, they will remain available as 'seaborn-v0_8-<style>'. Alternatively, directly use the seaborn API instead.\n",
      "  plt.style.use('seaborn')   # define o estilo para o gráfico\n"
     ]
    },
    {
     "data": {
      "image/png": "[encoded data removed]",
      "text/plain": [
       "<Figure size 1200x500 with 1 Axes>"
      ]
     },
     "metadata": {},
     "output_type": "display_data"
    }
   ],
   "source": [
    "proventos('BBAS3')"
   ]
  }
 ],
 "metadata": {
  "kernelspec": {
   "display_name": "Python 3 (ipykernel)",
   "language": "python",
   "name": "python3"
  },
  "language_info": {
   "codemirror_mode": {
    "name": "ipython",
    "version": 3
   },
   "file_extension": ".py",
   "mimetype": "text/x-python",
   "name": "python",
   "nbconvert_exporter": "python",
   "pygments_lexer": "ipython3",
   "version": "3.11.4"
  }
 },
 "nbformat": 4,
 "nbformat_minor": 5
}
