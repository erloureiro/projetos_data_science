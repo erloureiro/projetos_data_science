{
 "cells": [
  {
   "cell_type": "markdown",
   "id": "aa8b934e",
   "metadata": {},
   "source": [
    "### Automação de envio de e-mail com contação (mínima, máxima, atual e previsão) de Ticker selecionado"
   ]
  },
  {
   "cell_type": "markdown",
   "id": "f04ce393",
   "metadata": {},
   "source": [
    "#### Instalando Bibliotecas"
   ]
  },
  {
   "cell_type": "code",
   "execution_count": 1,
   "id": "44d75bf5",
   "metadata": {},
   "outputs": [],
   "source": [
    "#!pip install yfinance\n",
    "#!pip install pyautogui\n",
    "#!pip install pyperclip"
   ]
  },
  {
   "cell_type": "markdown",
   "id": "6da1b799",
   "metadata": {},
   "source": [
    "#### módulo time e a biblioteca pyautogui para ober a posição cartográfica do cursor"
   ]
  },
  {
   "cell_type": "code",
   "execution_count": 2,
   "id": "36a77c5f",
   "metadata": {},
   "outputs": [],
   "source": [
    "#import time\n",
    "#time.sleep(5)\n",
    "#pyautogui.position()"
   ]
  },
  {
   "cell_type": "markdown",
   "id": "1cf7d641",
   "metadata": {},
   "source": [
    "#### Processo de Automação"
   ]
  },
  {
   "cell_type": "code",
   "execution_count": 1,
   "id": "c24785e5",
   "metadata": {},
   "outputs": [
    {
     "name": "stdout",
     "output_type": "stream",
     "text": [
      "Digite o código da ação: PETR4.SA\n"
     ]
    },
    {
     "name": "stderr",
     "output_type": "stream",
     "text": [
      "14:47:50 - cmdstanpy - INFO - Chain [1] start processing\n",
      "14:47:50 - cmdstanpy - INFO - Chain [1] done processing\n"
     ]
    },
    {
     "name": "stdout",
     "output_type": "stream",
     "text": [
      "E-mail enviado com sucesso!\n"
     ]
    }
   ],
   "source": [
    "import yfinance as yf\n",
    "from prophet import Prophet\n",
    "import pyautogui\n",
    "import pyperclip\n",
    "\n",
    "ticker = input('Digite o código da ação: ')\n",
    "dados = yf.Ticker(ticker)\n",
    "tabela = dados.history(\"6mo\")\n",
    "fechamento = tabela.Close\n",
    "maxima = fechamento.max()\n",
    "minima = fechamento.min()\n",
    "atual = fechamento[-1]\n",
    "\n",
    "# construindo a previsão\n",
    "dados1 = yf.Ticker(ticker).history(\"3y\")\n",
    "# resetando o índice do DataFrame\n",
    "treinamento = dados1.reset_index()\n",
    "# retirando o timezone (fuso horário) da coluna de data\n",
    "treinamento[\"Date\"] = treinamento[\"Date\"].dt.tz_localize(None)\n",
    "# selecionando as colunas de data e valor de fechamento\n",
    "treinamento = treinamento[['Date', 'Close']]\n",
    "# renomeando as colunas (o Prophet precisa receber os dados com esse padrão)\n",
    "treinamento.columns = ['ds', 'y']\n",
    "# criando o modelo\n",
    "modelo = Prophet()\n",
    "# treinando o modelo com os dados de treinamento\n",
    "modelo.fit(treinamento)\n",
    "# especificando o período das previsões (em dias)\n",
    "periodo = modelo.make_future_dataframe(periods=60)\n",
    "# gerando as previsões\n",
    "previsoes = modelo.predict(periodo)\n",
    "previsao = previsoes['yhat'].iloc[-1]\n",
    "\n",
    "destinatario = \"erloureiro@gmail.com\"\n",
    "assunto = \"Análise diária\"\n",
    "mensagem = f\"\"\"\n",
    "Bom dia Prezado(a),\n",
    "\n",
    "Segue abaixo as análises da ação {ticker} dos últimos seis meses:\n",
    "\n",
    "Cotação máxima: R$ {round(maxima,2)}\n",
    "Cotação mínima: R$ {round(minima,2)}\n",
    "Cotação atual: R$ {round(atual,2)}\n",
    "\n",
    "Segue, também, uma previsão, utilizando a biblioteca Yahoo Finance e o\n",
    "módulo Prophet, para 60 dias: R$ {round(previsao,2)}\n",
    "\n",
    "Atenciosamente,\n",
    "Eduardo Loureiro\n",
    "\"\"\"\n",
    "\n",
    "# configurar uma pausa entre as ações do pyautogui\n",
    "pyautogui.PAUSE = 3\n",
    "# abrir uma nova aba\n",
    "pyautogui.hotkey(\"ctrl\", \"t\")\n",
    "# copiar o endereço do gmail para o clipboard\n",
    "pyperclip.copy(\"www.gmail.com\")\n",
    "# colar o endereço do gmail e dar um ENTER\n",
    "pyautogui.hotkey(\"ctrl\", \"v\")\n",
    "pyautogui.press(\"enter\")\n",
    "# clicando no botão Escrever\n",
    "pyautogui.click(x=83, y=177)\n",
    "# Preenchendo o destinatário\n",
    "pyperclip.copy(destinatario)\n",
    "pyautogui.hotkey(\"ctrl\", \"v\")\n",
    "pyautogui.press(\"tab\")\n",
    "# Preenchendo o assunto\n",
    "pyperclip.copy(assunto)\n",
    "pyautogui.hotkey(\"ctrl\", \"v\")\n",
    "pyautogui.press(\"tab\")\n",
    "# Preenchendo a mensagem\n",
    "pyperclip.copy(mensagem)\n",
    "pyautogui.hotkey(\"ctrl\", \"v\")\n",
    "# Clicar no botão Enviar\n",
    "pyautogui.click(x=1290, y=1004)\n",
    "# fechar a aba do gmail\n",
    "pyautogui.hotkey(\"ctrl\", \"f4\")\n",
    "# Imprimir mensagem de enviado com sucesso\n",
    "print('E-mail enviado com sucesso!')"
   ]
  }
 ],
 "metadata": {
  "kernelspec": {
   "display_name": "Python 3 (ipykernel)",
   "language": "python",
   "name": "python3"
  },
  "language_info": {
   "codemirror_mode": {
    "name": "ipython",
    "version": 3
   },
   "file_extension": ".py",
   "mimetype": "text/x-python",
   "name": "python",
   "nbconvert_exporter": "python",
   "pygments_lexer": "ipython3",
   "version": "3.11.4"
  }
 },
 "nbformat": 4,
 "nbformat_minor": 5
}
